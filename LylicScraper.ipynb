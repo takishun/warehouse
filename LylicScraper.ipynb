{
 "cells": [
  {
   "cell_type": "code",
   "execution_count": 1,
   "metadata": {},
   "outputs": [],
   "source": [
    "import urllib.request\n",
    "from bs4 import BeautifulSoup\n",
    "import re\n",
    "import time\n",
    "import os\n",
    "\n",
    "fqdn = 'http://j-lyric.net'\n",
    "path = '/artist/a0579b7/'#artist\n",
    "# Popin': a05b0ae, Roselia:a05c94e Afterglow:a05d3b1 PastelPalets:a05cf0e ハロハピ:a05d0eb RAS:a05f5f8\n",
    "dirname='米津玄師'\n",
    "\n",
    "url = fqdn + path\n",
    "\n",
    "if os.path.exists(dirname):\n",
    "    pass\n",
    "else:\n",
    "    os.mkdir(dirname)\n",
    "\n",
    "response = urllib.request.urlopen(url)\n",
    "data = response.read()\n",
    "soup = BeautifulSoup(data, \"lxml\")\n",
    "\n",
    "select1 = soup.find(\"div\", id=\"mnb\")\n",
    "select2 = select1.find(\"div\", class_=\"cnt\")\n",
    "\n",
    "contents = select2.find_all('div', id=re.compile('ly'))\n",
    "\n",
    "for i in range(len(contents)):\n",
    "    try:\n",
    "        select4 = select2.find(\"div\", id=\"ly\" + str(i+1))\n",
    "        select5 = select4.find('p', class_='ttl')\n",
    "        title = select5.find('a')\n",
    "        title = re.sub('<a href=\".+\">', '', str(title)).replace('</a>', '')\n",
    "        title = re.sub('<a class=\".+\">','', str(title))\n",
    "        title = title.replace('?','')\n",
    "\n",
    "        path_lyric = select5.a.get('href')\n",
    "        response_lyric = urllib.request.urlopen(fqdn + path_lyric)\n",
    "        data_lyric = response_lyric.read()\n",
    "        soup_lyric = BeautifulSoup(data_lyric, \"lxml\")\n",
    "\n",
    "        select6 = soup_lyric.find(\"div\", id=\"mnb\")\n",
    "        select7 = select6.find(\"div\", class_=\"lbdy\")\n",
    "        select8 = select7.find(\"p\", id=\"Lyric\")\n",
    "        lyric = str(select8).replace('<p id=\"Lyric\">', '').replace('</p>', '').replace('<br/>', '\\n')\n",
    "    #     print(title)\n",
    "\n",
    "        f = open(os.getcwd() +'\\\\'+dirname+'\\\\'+ title + '.txt', 'w',encoding='utf-8')\n",
    "        f.write(lyric)\n",
    "        f.close()\n",
    "    except:\n",
    "        print('skipped')\n",
    "\n",
    "    # スクレイピングマナー\n",
    "    time.sleep(1)"
   ]
  },
  {
   "cell_type": "markdown",
   "metadata": {},
   "source": [
    "## 参考文献\n",
    "- https://pompom168.hatenablog.com/entry/2018/03/25/222919\n",
    "- http://j-lyric.net"
   ]
  },
  {
   "cell_type": "code",
   "execution_count": null,
   "metadata": {},
   "outputs": [],
   "source": []
  }
 ],
 "metadata": {
  "kernelspec": {
   "display_name": "Python 3",
   "language": "python",
   "name": "python3"
  },
  "language_info": {
   "codemirror_mode": {
    "name": "ipython",
    "version": 3
   },
   "file_extension": ".py",
   "mimetype": "text/x-python",
   "name": "python",
   "nbconvert_exporter": "python",
   "pygments_lexer": "ipython3",
   "version": "3.6.8"
  }
 },
 "nbformat": 4,
 "nbformat_minor": 2
}
